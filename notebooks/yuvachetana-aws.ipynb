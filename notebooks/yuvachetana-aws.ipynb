{
 "cells": [
  {
   "cell_type": "code",
   "execution_count": null,
   "id": "4b0d9c62-a709-44bc-9f95-318373190132",
   "metadata": {},
   "outputs": [],
   "source": [
    "import boto3\n",
    "\n",
    "# Create an S3 client\n",
    "s3_client = boto3.client(\"s3\")\n",
    "\n",
    "# List all S3 buckets\n",
    "def list_buckets():\n",
    "    response = s3_client.list_buckets()\n",
    "    print(\"S3 Buckets:\")\n",
    "    for bucket in response[\"Buckets\"]:\n",
    "        print(f\"- {bucket['Name']}\")"
   ]
  },
  {
   "cell_type": "code",
   "execution_count": null,
   "id": "d39e2145-15ad-4b57-be27-7d3a330d7f4d",
   "metadata": {},
   "outputs": [],
   "source": [
    "response = s3_client.list_buckets()\n"
   ]
  },
  {
   "cell_type": "code",
   "execution_count": null,
   "id": "f571988b-3fd5-45ae-94b8-c7b0f55a5ecd",
   "metadata": {},
   "outputs": [],
   "source": [
    "response"
   ]
  },
  {
   "cell_type": "code",
   "execution_count": null,
   "id": "d2f2b83c-fe1f-43e6-b5a5-a8e40178201b",
   "metadata": {},
   "outputs": [],
   "source": [
    "list_buckets()   "
   ]
  },
  {
   "cell_type": "code",
   "execution_count": null,
   "id": "f7b171e8-c6ef-4f44-b906-980d8d2818a7",
   "metadata": {},
   "outputs": [],
   "source": []
  },
  {
   "cell_type": "code",
   "execution_count": null,
   "id": "75300d61-0435-4ac2-9438-5aa521e5870e",
   "metadata": {},
   "outputs": [],
   "source": []
  },
  {
   "cell_type": "code",
   "execution_count": null,
   "id": "cb909378-e331-4381-9542-7f9261e4a834",
   "metadata": {},
   "outputs": [],
   "source": [
    "# List contents of a specific bucket\n",
    "def list_bucket_contents(bucket_name):\n",
    "    response = s3_client.list_objects_v2(Bucket=bucket_name)\n",
    "    \n",
    "    if \"Contents\" in response:\n",
    "        print(f\"\\nContents of {bucket_name}:\")\n",
    "        for obj in response[\"Contents\"]:\n",
    "            print(f\"- {obj['Key']}\")\n",
    "    else:\n",
    "        print(f\"\\nThe bucket {bucket_name} is empty or does not exist.\")\n",
    "\n",
    "# Run the script\n",
    "if __name__ == \"__main__\":\n",
    "    list_buckets()\n",
    "    \n",
    "    # Replace with your bucket name\n",
    "    bucket_name = \"yuvachetana-webapp\"\n",
    "    list_bucket_contents(bucket_name)"
   ]
  },
  {
   "cell_type": "code",
   "execution_count": null,
   "id": "f9e15e16-beac-42b4-9902-8874a9040193",
   "metadata": {},
   "outputs": [],
   "source": []
  },
  {
   "cell_type": "code",
   "execution_count": null,
   "id": "5df25c8f-90d3-485b-bc26-7f66ed58500d",
   "metadata": {},
   "outputs": [],
   "source": []
  },
  {
   "cell_type": "code",
   "execution_count": null,
   "id": "6242e84c-7850-4e53-9e3c-5cd84d409e62",
   "metadata": {},
   "outputs": [],
   "source": [
    "# database"
   ]
  },
  {
   "cell_type": "code",
   "execution_count": null,
   "id": "bc9e4fa0-9dad-4cab-8bd7-4dbb638d5dee",
   "metadata": {},
   "outputs": [],
   "source": []
  },
  {
   "cell_type": "code",
   "execution_count": 3,
   "id": "732069c0-8688-4d7c-8739-da7ed22b3238",
   "metadata": {},
   "outputs": [
    {
     "name": "stdout",
     "output_type": "stream",
     "text": [
      "[('template0',), ('template1',), ('postgres',), ('rdsadmin',), ('yuvachetana',)]\n"
     ]
    }
   ],
   "source": [
    "import psycopg2\n",
    "\n",
    "conn = psycopg2.connect(\n",
    "    host=\"yuva-chetana.cn24g08aomsm.ap-south-1.rds.amazonaws.com\",\n",
    "    database=\"yuvachetana\",\n",
    "    user=\"fellow\",\n",
    "    password=\"YuvaChetana2025#\"\n",
    ")\n",
    "\n",
    "cur = conn.cursor()\n",
    "cur.execute(\" SELECT datname FROM pg_database;\")\n",
    "print(cur.fetchall())\n",
    "\n",
    "cur.close()\n",
    "conn.close()\n"
   ]
  },
  {
   "cell_type": "code",
   "execution_count": null,
   "id": "89e7c14d-80e4-4a1a-8453-61185599ba29",
   "metadata": {},
   "outputs": [],
   "source": [
    "pip install psycopg2"
   ]
  },
  {
   "cell_type": "code",
   "execution_count": null,
   "id": "9e7d9009-ba20-44ce-91ce-e26ea42729db",
   "metadata": {},
   "outputs": [],
   "source": []
  },
  {
   "cell_type": "code",
   "execution_count": null,
   "id": "22f0a87c-61b5-4661-a648-afab6b0ef2cb",
   "metadata": {},
   "outputs": [],
   "source": []
  },
  {
   "cell_type": "code",
   "execution_count": null,
   "id": "7795c313-7d40-4dd4-8d6d-e56180710410",
   "metadata": {},
   "outputs": [],
   "source": []
  },
  {
   "cell_type": "code",
   "execution_count": null,
   "id": "5987ceb8-8de0-4072-bb4d-759ebcbc4070",
   "metadata": {},
   "outputs": [],
   "source": []
  },
  {
   "cell_type": "code",
   "execution_count": null,
   "id": "0241093e-8a11-409d-8f42-7d76c34dd6df",
   "metadata": {},
   "outputs": [],
   "source": []
  },
  {
   "cell_type": "code",
   "execution_count": null,
   "id": "2513a7b6-2189-4388-aa16-9033838f1812",
   "metadata": {},
   "outputs": [],
   "source": []
  },
  {
   "cell_type": "code",
   "execution_count": null,
   "id": "867b15f4-9f44-4872-833f-0d13b90aa06a",
   "metadata": {},
   "outputs": [],
   "source": []
  }
 ],
 "metadata": {
  "kernelspec": {
   "display_name": "yuva-chetana-dev",
   "language": "python",
   "name": "venv"
  },
  "language_info": {
   "codemirror_mode": {
    "name": "ipython",
    "version": 3
   },
   "file_extension": ".py",
   "mimetype": "text/x-python",
   "name": "python",
   "nbconvert_exporter": "python",
   "pygments_lexer": "ipython3",
   "version": "3.12.2"
  }
 },
 "nbformat": 4,
 "nbformat_minor": 5
}
